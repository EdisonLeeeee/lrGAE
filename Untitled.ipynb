{
 "cells": [
  {
   "cell_type": "code",
   "execution_count": 1,
   "id": "89de6093-abed-4f4f-82d9-458b558c0201",
   "metadata": {},
   "outputs": [],
   "source": [
    "from lrgae.dataset import load_dataset\n",
    "import torch_geometric.transforms as T\n"
   ]
  },
  {
   "cell_type": "code",
   "execution_count": 3,
   "id": "b52acf62-4983-4313-ba8e-859b35a06102",
   "metadata": {},
   "outputs": [
    {
     "data": {
      "text/plain": [
       "Data(edge_index=[2, 38], x=[17, 7], edge_attr=[38, 4], y=[1])"
      ]
     },
     "execution_count": 3,
     "metadata": {},
     "output_type": "execute_result"
    }
   ],
   "source": [
    "load_dataset(root='~/public_data/pyg_data', name='MUTAG')[0]"
   ]
  },
  {
   "cell_type": "code",
   "execution_count": 2,
   "id": "61f1224e-35e0-4a20-856b-84846952a55a",
   "metadata": {},
   "outputs": [],
   "source": [
    "transform = T.Compose([\n",
    "    T.ToUndirected(),\n",
    "    T.NormalizeFeatures(),\n",
    "])"
   ]
  },
  {
   "cell_type": "code",
   "execution_count": null,
   "id": "7513a4f0-abc3-44a4-8347-48751ec70935",
   "metadata": {},
   "outputs": [],
   "source": []
  }
 ],
 "metadata": {
  "kernelspec": {
   "display_name": "Python 3 (ipykernel)",
   "language": "python",
   "name": "python3"
  },
  "language_info": {
   "codemirror_mode": {
    "name": "ipython",
    "version": 3
   },
   "file_extension": ".py",
   "mimetype": "text/x-python",
   "name": "python",
   "nbconvert_exporter": "python",
   "pygments_lexer": "ipython3",
   "version": "3.9.19"
  }
 },
 "nbformat": 4,
 "nbformat_minor": 5
}
